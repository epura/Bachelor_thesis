{
 "cells": [
  {
   "cell_type": "code",
   "execution_count": 183,
   "id": "2b185c4a",
   "metadata": {},
   "outputs": [],
   "source": [
    "from bs4 import BeautifulSoup\n",
    "from urllib.request import urlopen"
   ]
  },
  {
   "cell_type": "code",
   "execution_count": 201,
   "id": "37565c72",
   "metadata": {
    "scrolled": true
   },
   "outputs": [],
   "source": [
    "def find_file(link, conditions):\n",
    "    file_link = \"\"\n",
    "    with urlopen(link) as response:\n",
    "        soup = BeautifulSoup(response, 'html.parser')\n",
    "        root = \"https://www.ifi.uzh.ch\"\n",
    "\n",
    "        for link in soup.find_all('a'):\n",
    "            # If all the conditions are in the link's title then is the right one\n",
    "            if all(condition in link.text.lower() for condition in conditions):\n",
    "                href = link.get('href')\n",
    "                file_link = root + href\n",
    "                \n",
    "        if not file_link:\n",
    "            file_link = \"Not found.\"\n",
    "\n",
    "        return file_link"
   ]
  },
  {
   "cell_type": "code",
   "execution_count": 202,
   "id": "7422e523",
   "metadata": {},
   "outputs": [
    {
     "data": {
      "text/plain": [
       "'https://www.ifi.uzh.ch/dam/jcr:caa92451-b9c5-4f4f-bcb6-83263a15446b/AnmeldungSchriftlicheArbeitenRVO16_en.docx'"
      ]
     },
     "execution_count": 202,
     "metadata": {},
     "output_type": "execute_result"
    }
   ],
   "source": [
    "find_file('https://www.ifi.uzh.ch/en/studies/bsc-info.html', \n",
    "          [\"registration\", \"bachelor\", \"thesis\", \"docx\"])"
   ]
  },
  {
   "cell_type": "code",
   "execution_count": 204,
   "id": "a4919387",
   "metadata": {},
   "outputs": [
    {
     "data": {
      "text/plain": [
       "'https://www.ifi.uzh.ch/dam/jcr:8c1bb436-d2c4-4425-9264-167ed9b27c8a/Merkblatt-BachelorarbeitRVO16_en.pdf'"
      ]
     },
     "execution_count": 204,
     "metadata": {},
     "output_type": "execute_result"
    }
   ],
   "source": [
    "find_file('https://www.ifi.uzh.ch/en/studies/bsc-info.html', \n",
    "          [\"fact sheet\", \"bachelor\", \"pdf\"])"
   ]
  }
 ],
 "metadata": {
  "kernelspec": {
   "display_name": "Python 3 (ipykernel)",
   "language": "python",
   "name": "python3"
  },
  "language_info": {
   "codemirror_mode": {
    "name": "ipython",
    "version": 3
   },
   "file_extension": ".py",
   "mimetype": "text/x-python",
   "name": "python",
   "nbconvert_exporter": "python",
   "pygments_lexer": "ipython3",
   "version": "3.8.8"
  }
 },
 "nbformat": 4,
 "nbformat_minor": 5
}
